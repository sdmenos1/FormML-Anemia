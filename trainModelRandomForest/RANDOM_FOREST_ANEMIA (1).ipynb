{
 "cells": [
  {
   "cell_type": "code",
   "execution_count": 1,
   "metadata": {
    "id": "LXV62c6cMNtU"
   },
   "outputs": [],
   "source": [
    "import pandas as pd\n",
    "import numpy as np\n",
    "from sklearn.model_selection import train_test_split, GridSearchCV, cross_val_score\n",
    "from sklearn.ensemble import RandomForestClassifier\n",
    "from sklearn.preprocessing import LabelEncoder\n",
    "from sklearn.metrics import classification_report, confusion_matrix, roc_auc_score\n",
    "from imblearn.over_sampling import SMOTE\n",
    "import matplotlib.pyplot as plt\n",
    "import warnings\n",
    "import pickle\n",
    "\n",
    "warnings.filterwarnings(\"ignore\")"
   ]
  },
  {
   "cell_type": "code",
   "execution_count": 2,
   "metadata": {
    "colab": {
     "base_uri": "https://localhost:8080/"
    },
    "id": "tMjFhXCoTp9v",
    "outputId": "2d12c6ef-69ed-4c8e-a6ae-0b2011c8e7db"
   },
   "outputs": [
    {
     "name": "stdout",
     "output_type": "stream",
     "text": [
      "============================================================\n",
      "DATOS ORIGINALES\n",
      "============================================================\n",
      "Dimensiones: (46332, 8)\n",
      "\n",
      "Distribución de clases originales:\n",
      "Dx_anemia\n",
      "0    11583\n",
      "1    11583\n",
      "2    11583\n",
      "3    11583\n",
      "Name: count, dtype: int64\n",
      "\n",
      "Valores nulos por columna:\n",
      "Sexo              0\n",
      "Peso              0\n",
      "Talla             0\n",
      "Cred              0\n",
      "Suplementacion    0\n",
      "DistritoREN       0\n",
      "Edad              0\n",
      "Dx_anemia         0\n",
      "dtype: int64\n"
     ]
    }
   ],
   "source": [
    "path = \"smote_Data_Lima.csv\"\n",
    "try:\n",
    "    df = pd.read_excel(path)\n",
    "except:\n",
    "    df = pd.read_csv(path, sep=',')\n",
    "\n",
    "print(\"=\"*60)\n",
    "print(\"DATOS ORIGINALES\")\n",
    "print(\"=\"*60)\n",
    "print(f\"Dimensiones: {df.shape}\")\n",
    "print(f\"\\nDistribución de clases originales:\")\n",
    "print(df[\"Dx_anemia\"].value_counts())\n",
    "print(f\"\\nValores nulos por columna:\")\n",
    "print(df.isnull().sum())\n",
    "\n",
    "# Remove unnecessary columns if they exist\n",
    "if 'Unnamed: 0' in df.columns:\n",
    "    df = df.drop('Unnamed: 0', axis=1)\n",
    "\n",
    "# Create working copy\n",
    "dataframe = df.copy()"
   ]
  },
  {
   "cell_type": "code",
   "execution_count": 3,
   "metadata": {},
   "outputs": [
    {
     "name": "stdout",
     "output_type": "stream",
     "text": [
      "\n",
      "Valores únicos en Sexo (antes de mapeo): [0 1]\n",
      "Conteo de valores: \n",
      "Sexo\n",
      "0    28263\n",
      "1    18069\n",
      "Name: count, dtype: int64\n",
      "⚠️ No hay moda para Sexo, usando 0 (F) por defecto\n",
      "Sexo imputado. Valores NaN restantes: 0\n",
      "\n",
      "Columnas numéricas a imputar: ['Sexo', 'Peso', 'Talla', 'Cred', 'Suplementacion', 'DistritoREN', 'Edad']\n"
     ]
    }
   ],
   "source": [
    "print(f\"\\nValores únicos en Sexo (antes de mapeo): {dataframe['Sexo'].unique()}\")\n",
    "print(f\"Conteo de valores: \\n{dataframe['Sexo'].value_counts()}\")\n",
    "\n",
    "# Clean and encode Sex\n",
    "dataframe['Sexo'] = dataframe['Sexo'].astype(str).str.strip().str.upper()\n",
    "dataframe['Sexo'] = dataframe['Sexo'].map({'F': 0, 'M': 1})\n",
    "\n",
    "# Impute Sex if NaN after mapping\n",
    "if dataframe['Sexo'].isnull().any():\n",
    "    moda_values = dataframe['Sexo'].mode()\n",
    "    if len(moda_values) > 0:\n",
    "        dataframe['Sexo'] = dataframe['Sexo'].fillna(moda_values[0])\n",
    "    else:\n",
    "        print(\"⚠️ No hay moda para Sexo, usando 0 (F) por defecto\")\n",
    "        dataframe['Sexo'] = dataframe['Sexo'].fillna(0)\n",
    "    print(f\"Sexo imputado. Valores NaN restantes: {dataframe['Sexo'].isnull().sum()}\")\n",
    "\n",
    "# Encode District\n",
    "le_distrito = LabelEncoder()\n",
    "dataframe['DistritoREN'] = le_distrito.fit_transform(dataframe['DistritoREN'].astype(str))\n",
    "\n",
    "# Identify numeric columns (except target)\n",
    "numeric_cols = dataframe.select_dtypes(include=[np.number]).columns.tolist()\n",
    "if 'Dx_anemia' in numeric_cols:\n",
    "    numeric_cols.remove('Dx_anemia')\n",
    "\n",
    "print(f\"\\nColumnas numéricas a imputar: {numeric_cols}\")\n"
   ]
  },
  {
   "cell_type": "code",
   "execution_count": 5,
   "metadata": {},
   "outputs": [
    {
     "name": "stdout",
     "output_type": "stream",
     "text": [
      "\n",
      "Valores NaN después de imputación:\n",
      "Sexo                 0\n",
      "Peso                 0\n",
      "Talla                0\n",
      "Cred                 0\n",
      "Suplementacion       0\n",
      "DistritoREN          0\n",
      "Edad                 0\n",
      "Dx_anemia            0\n",
      "IMC                 20\n",
      "Peso_Talla_Ratio    20\n",
      "EdadMeses            0\n",
      "EdadAnios            0\n",
      "dtype: int64\n"
     ]
    }
   ],
   "source": [
    "from sklearn.impute import SimpleImputer\n",
    "imputer = SimpleImputer(strategy='median')\n",
    "dataframe[numeric_cols] = imputer.fit_transform(dataframe[numeric_cols])\n",
    "\n",
    "print(f\"\\nValores NaN después de imputación:\")\n",
    "print(dataframe.isnull().sum())\n",
    "\n",
    "# Create derived features\n",
    "dataframe['IMC'] = dataframe['Peso'] / ((dataframe['Talla']/100) ** 2)\n",
    "dataframe['Peso_Talla_Ratio'] = dataframe['Peso'] / dataframe['Talla']\n",
    "\n",
    "# Handle age columns - keep consistency\n",
    "if 'EdadMeses' in dataframe.columns:\n",
    "    dataframe['EdadAnios'] = dataframe['EdadMeses'] / 12\n",
    "elif 'Edad' in dataframe.columns:\n",
    "    dataframe['EdadMeses'] = dataframe['Edad'] * 12\n",
    "    dataframe['EdadAnios'] = dataframe['Edad']\n",
    "\n",
    "# Replace infinites\n",
    "dataframe.replace([np.inf, -np.inf], np.nan, inplace=True)"
   ]
  },
  {
   "cell_type": "code",
   "execution_count": 6,
   "metadata": {
    "id": "oh0DrZEfPJ4A"
   },
   "outputs": [
    {
     "name": "stdout",
     "output_type": "stream",
     "text": [
      "\n",
      "⚠️ Se encontraron NaN en características derivadas. Imputando...\n",
      "\n",
      "============================================================\n",
      "Datos después de limpieza: (43959, 12)\n",
      "Verificación final de NaN: 0 valores faltantes\n",
      "============================================================\n"
     ]
    }
   ],
   "source": [
    "if dataframe.isnull().any().any():\n",
    "    print(\"\\n⚠️ Se encontraron NaN en características derivadas. Imputando...\")\n",
    "    numeric_cols_all = dataframe.select_dtypes(include=[np.number]).columns.tolist()\n",
    "    if 'Dx_anemia' in numeric_cols_all:\n",
    "        numeric_cols_all.remove('Dx_anemia')\n",
    "    dataframe[numeric_cols_all] = imputer.fit_transform(dataframe[numeric_cols_all])\n",
    "\n",
    "# Remove extreme outliers\n",
    "for col in ['Peso', 'Talla', 'IMC']:\n",
    "    if col in dataframe.columns:\n",
    "        Q1 = dataframe[col].quantile(0.01)\n",
    "        Q3 = dataframe[col].quantile(0.99)\n",
    "        dataframe = dataframe[(dataframe[col] >= Q1) & (dataframe[col] <= Q3)]\n",
    "\n",
    "print(f\"\\n{'='*60}\")\n",
    "print(f\"Datos después de limpieza: {dataframe.shape}\")\n",
    "print(f\"Verificación final de NaN: {dataframe.isnull().sum().sum()} valores faltantes\")\n",
    "print(f\"{'='*60}\")"
   ]
  },
  {
   "cell_type": "code",
   "execution_count": 8,
   "metadata": {
    "id": "JwsJw-IeTv2o"
   },
   "outputs": [
    {
     "name": "stdout",
     "output_type": "stream",
     "text": [
      "\n",
      "Distribución de clases antes de SMOTE:\n",
      "Dx_anemia\n",
      "3    11583\n",
      "1    10952\n",
      "0    10745\n",
      "2    10679\n",
      "Name: count, dtype: int64\n",
      "\n",
      "============================================================\n",
      "VERIFICACIÓN FINAL ANTES DE SMOTE\n",
      "============================================================\n",
      "Valores NaN en X: 0\n",
      "Valores infinitos en X: 0\n",
      "Shape de X: (43959, 11)\n",
      "Columnas de X: ['Sexo', 'Peso', 'Talla', 'Cred', 'Suplementacion', 'DistritoREN', 'Edad', 'IMC', 'Peso_Talla_Ratio', 'EdadMeses', 'EdadAnios']\n"
     ]
    }
   ],
   "source": [
    "X = dataframe.drop(\"Dx_anemia\", axis=1)\n",
    "y = dataframe[\"Dx_anemia\"]\n",
    "\n",
    "print(f\"\\nDistribución de clases antes de SMOTE:\")\n",
    "print(y.value_counts())\n",
    "\n",
    "# Verify X has no NaN\n",
    "print(f\"\\n{'='*60}\")\n",
    "print(\"VERIFICACIÓN FINAL ANTES DE SMOTE\")\n",
    "print(f\"{'='*60}\")\n",
    "print(f\"Valores NaN en X: {X.isnull().sum().sum()}\")\n",
    "print(f\"Valores infinitos en X: {np.isinf(X.select_dtypes(include=[np.number])).sum().sum()}\")\n",
    "print(f\"Shape de X: {X.shape}\")\n",
    "print(f\"Columnas de X: {X.columns.tolist()}\")\n"
   ]
  },
  {
   "cell_type": "code",
   "execution_count": 9,
   "metadata": {
    "colab": {
     "base_uri": "https://localhost:8080/",
     "height": 304
    },
    "id": "vYUH3oy_PTeQ",
    "outputId": "332c1b10-4ef8-4f5d-8d63-fcd4670d8d91"
   },
   "outputs": [
    {
     "name": "stdout",
     "output_type": "stream",
     "text": [
      "\n",
      "Mínimo de muestras en clase minoritaria: 10679\n",
      "Aplicando SMOTE con k_neighbors=5\n",
      "\n",
      "✓ SMOTE aplicado exitosamente\n",
      "Distribución después de SMOTE:\n",
      "Dx_anemia\n",
      "0    11583\n",
      "1    11583\n",
      "2    11583\n",
      "3    11583\n",
      "Name: count, dtype: int64\n"
     ]
    }
   ],
   "source": [
    "feature_names = X.columns.tolist()\n",
    "\n",
    "# Apply SMOTE if enough samples\n",
    "min_samples = y.value_counts().min()\n",
    "print(f\"\\nMínimo de muestras en clase minoritaria: {min_samples}\")\n",
    "\n",
    "if min_samples >= 2:\n",
    "    k_neighbors = min(5, min_samples - 1)\n",
    "    print(f\"Aplicando SMOTE con k_neighbors={k_neighbors}\")\n",
    "    \n",
    "    try:\n",
    "        smote = SMOTE(sampling_strategy=\"not majority\", random_state=42, k_neighbors=k_neighbors)\n",
    "        X_resampled, y_resampled = smote.fit_resample(X, y)\n",
    "        \n",
    "        print(f\"\\n✓ SMOTE aplicado exitosamente\")\n",
    "        print(f\"Distribución después de SMOTE:\")\n",
    "        print(pd.Series(y_resampled).value_counts())\n",
    "    except Exception as e:\n",
    "        print(f\"\\n⚠️ Error al aplicar SMOTE: {e}\")\n",
    "        print(\"Continuando sin SMOTE...\")\n",
    "        X_resampled, y_resampled = X, y\n",
    "else:\n",
    "    print(\"\\n⚠️ Muy pocas muestras para SMOTE. Usando class_weight='balanced' en el modelo.\")\n",
    "    X_resampled, y_resampled = X, y\n"
   ]
  },
  {
   "cell_type": "code",
   "execution_count": 10,
   "metadata": {
    "id": "TyvtDyOSPTqB"
   },
   "outputs": [
    {
     "name": "stdout",
     "output_type": "stream",
     "text": [
      "\n",
      "Tamaños de conjuntos:\n",
      "Train: 37065 | Test: 9267\n",
      "\n",
      "============================================================\n",
      "BÚSQUEDA DE HIPERPARÁMETROS ÓPTIMOS\n",
      "============================================================\n",
      "Fitting 5 folds for each of 3840 candidates, totalling 19200 fits\n",
      "\n",
      "============================================================\n",
      "MEJORES PARÁMETROS ENCONTRADOS:\n",
      "============================================================\n",
      "class_weight: balanced_subsample\n",
      "max_depth: 25\n",
      "max_features: sqrt\n",
      "min_samples_leaf: 1\n",
      "min_samples_split: 2\n",
      "n_estimators: 500\n",
      "\n",
      "Mejor score (F1-weighted) en validación cruzada: 0.8150\n"
     ]
    }
   ],
   "source": [
    "X_train, X_test, y_train, y_test = train_test_split(\n",
    "    X_resampled, y_resampled, \n",
    "    test_size=0.2, \n",
    "    random_state=42, \n",
    "    stratify=y_resampled\n",
    ")\n",
    "\n",
    "print(f\"\\nTamaños de conjuntos:\")\n",
    "print(f\"Train: {X_train.shape[0]} | Test: {X_test.shape[0]}\")\n",
    "\n",
    "# Hyperparameter search\n",
    "print(f\"\\n{'='*60}\")\n",
    "print(\"BÚSQUEDA DE HIPERPARÁMETROS ÓPTIMOS\")\n",
    "print(f\"{'='*60}\")\n",
    "\n",
    "param_grid = {\n",
    "    \"n_estimators\": [200, 300, 500,700],\n",
    "    \"max_depth\": [10, 15, 20,25, None],\n",
    "    \"min_samples_split\": [2, 5, 10,15],\n",
    "    \"min_samples_leaf\": [1, 2, 4,8],\n",
    "    \"max_features\": [\"sqrt\", \"log2\", \"auto\", \"None\"],\n",
    "    \"class_weight\": [\"balanced\", \"balanced_subsample\",None]\n",
    "}\n",
    "\n",
    "rf_base = RandomForestClassifier(\n",
    "    random_state=42,\n",
    "    n_jobs=-1,\n",
    "    oob_score=True\n",
    ")\n",
    "\n",
    "grid_search = GridSearchCV(\n",
    "    estimator=rf_base,\n",
    "    param_grid=param_grid,\n",
    "    scoring='f1_weighted',\n",
    "    cv=5,\n",
    "    n_jobs=-1,\n",
    "    verbose=1,\n",
    "    return_train_score=True\n",
    ")\n",
    "\n",
    "# Train\n",
    "grid_search.fit(X_train, y_train)\n",
    "\n",
    "print(f\"\\n{'='*60}\")\n",
    "print(\"MEJORES PARÁMETROS ENCONTRADOS:\")\n",
    "print(f\"{'='*60}\")\n",
    "for param, value in grid_search.best_params_.items():\n",
    "    print(f\"{param}: {value}\")\n",
    "\n",
    "print(f\"\\nMejor score (F1-weighted) en validación cruzada: {grid_search.best_score_:.4f}\")"
   ]
  },
  {
   "cell_type": "code",
   "execution_count": 11,
   "metadata": {},
   "outputs": [
    {
     "name": "stdout",
     "output_type": "stream",
     "text": [
      "\n",
      "============================================================\n",
      "GUARDANDO MODELO ENTRENADO\n",
      "============================================================\n"
     ]
    }
   ],
   "source": [
    "print(f\"\\n{'='*60}\")\n",
    "print(\"GUARDANDO MODELO ENTRENADO\")\n",
    "print(f\"{'='*60}\")\n",
    "best_model = grid_search.best_estimator_"
   ]
  },
  {
   "cell_type": "code",
   "execution_count": 12,
   "metadata": {},
   "outputs": [
    {
     "name": "stdout",
     "output_type": "stream",
     "text": [
      "✓ Modelo guardado exitosamente como: random_forest_anemia_model.pkl\n",
      "✓ Encoder de distrito guardado como: distrito_label_encoder.pkl\n",
      "✓ Nombres de características guardados como: feature_names.pkl\n",
      "\n",
      "Archivos exportados:\n",
      "  1. random_forest_anemia_model.pkl - Modelo entrenado\n",
      "  2. distrito_label_encoder.pkl - Codificador de distritos\n",
      "  3. feature_names.pkl - Nombres de características\n"
     ]
    }
   ],
   "source": [
    "model_filename = 'random_forest_anemia_model.pkl'\n",
    "with open(model_filename, 'wb') as file:\n",
    "    pickle.dump(best_model, file)\n",
    "\n",
    "print(f\"✓ Modelo guardado exitosamente como: {model_filename}\")\n",
    "\n",
    "# También guardar el LabelEncoder del distrito para usarlo en predicciones\n",
    "encoder_filename = 'distrito_label_encoder.pkl'\n",
    "with open(encoder_filename, 'wb') as file:\n",
    "    pickle.dump(le_distrito, file)\n",
    "\n",
    "print(f\"✓ Encoder de distrito guardado como: {encoder_filename}\")\n",
    "\n",
    "# Guardar los nombres de las características\n",
    "feature_names_filename = 'feature_names.pkl'\n",
    "with open(feature_names_filename, 'wb') as file:\n",
    "    pickle.dump(feature_names, file)\n",
    "\n",
    "print(f\"✓ Nombres de características guardados como: {feature_names_filename}\")\n",
    "\n",
    "print(f\"\\nArchivos exportados:\")\n",
    "print(f\"  1. {model_filename} - Modelo entrenado\")\n",
    "print(f\"  2. {encoder_filename} - Codificador de distritos\")\n",
    "print(f\"  3. {feature_names_filename} - Nombres de características\")"
   ]
  },
  {
   "cell_type": "code",
   "execution_count": 13,
   "metadata": {},
   "outputs": [
    {
     "name": "stdout",
     "output_type": "stream",
     "text": [
      "✓ Modelo guardado exitosamente como: random_forest_anemia_model.pkl\n"
     ]
    }
   ],
   "source": [
    "model_filename = 'random_forest_anemia_model.pkl'\n",
    "with open(model_filename, 'wb') as file:\n",
    "    pickle.dump(best_model, file)\n",
    "\n",
    "print(f\"✓ Modelo guardado exitosamente como: {model_filename}\")"
   ]
  },
  {
   "cell_type": "code",
   "execution_count": 14,
   "metadata": {},
   "outputs": [
    {
     "name": "stdout",
     "output_type": "stream",
     "text": [
      "\n",
      "============================================================\n",
      "REPORTE DE CLASIFICACIÓN EN TEST\n",
      "============================================================\n",
      "              precision    recall  f1-score   support\n",
      "\n",
      "           0       0.84      0.70      0.77      2317\n",
      "           1       0.76      0.87      0.81      2316\n",
      "           2       0.74      0.73      0.73      2317\n",
      "           3       0.98      1.00      0.99      2317\n",
      "\n",
      "    accuracy                           0.83      9267\n",
      "   macro avg       0.83      0.83      0.83      9267\n",
      "weighted avg       0.83      0.83      0.83      9267\n",
      "\n",
      "\n",
      "Matriz de Confusión:\n",
      "[[1633  267  413    4]\n",
      " [  86 2025  185   20]\n",
      " [ 225  384 1686   22]\n",
      " [   0    0    1 2316]]\n",
      "\n",
      "ROC-AUC Score (multiclase, weighted): 0.9516\n",
      "OOB Score: 0.8225\n",
      "\n",
      "============================================================\n",
      "IMPORTANCIA DE CARACTERÍSTICAS\n",
      "============================================================\n",
      "         feature  importance\n",
      "     DistritoREN    0.221706\n",
      "Peso_Talla_Ratio    0.179658\n",
      "  Suplementacion    0.126412\n",
      "           Talla    0.125510\n",
      "             IMC    0.110631\n",
      "            Peso    0.088458\n",
      "            Cred    0.077148\n",
      "            Edad    0.023699\n",
      "       EdadMeses    0.023422\n",
      "       EdadAnios    0.023356\n",
      "            Sexo    0.000000\n"
     ]
    },
    {
     "data": {
      "image/png": "[encoded data removed]",
      "text/plain": [
       "<Figure size 1000x600 with 1 Axes>"
      ]
     },
     "metadata": {},
     "output_type": "display_data"
    }
   ],
   "source": [
    "# Predictions\n",
    "y_pred = best_model.predict(X_test)\n",
    "y_pred_proba = best_model.predict_proba(X_test)\n",
    "\n",
    "print(f\"\\n{'='*60}\")\n",
    "print(\"REPORTE DE CLASIFICACIÓN EN TEST\")\n",
    "print(f\"{'='*60}\")\n",
    "print(classification_report(y_test, y_pred))\n",
    "\n",
    "print(f\"\\nMatriz de Confusión:\")\n",
    "print(confusion_matrix(y_test, y_pred))\n",
    "\n",
    "# AUC\n",
    "try:\n",
    "    if len(np.unique(y)) == 2:\n",
    "        auc = roc_auc_score(y_test, y_pred_proba[:, 1])\n",
    "        print(f\"\\nROC-AUC Score: {auc:.4f}\")\n",
    "    else:\n",
    "        auc = roc_auc_score(y_test, y_pred_proba, multi_class='ovr', average='weighted')\n",
    "        print(f\"\\nROC-AUC Score (multiclase, weighted): {auc:.4f}\")\n",
    "except:\n",
    "    print(\"\\nNo se pudo calcular ROC-AUC\")\n",
    "\n",
    "# OOB Score\n",
    "if hasattr(best_model, 'oob_score_'):\n",
    "    print(f\"OOB Score: {best_model.oob_score_:.4f}\")\n",
    "\n",
    "# Feature importance\n",
    "feature_importance = pd.DataFrame({\n",
    "    'feature': X.columns,\n",
    "    'importance': best_model.feature_importances_\n",
    "}).sort_values('importance', ascending=False)\n",
    "\n",
    "print(f\"\\n{'='*60}\")\n",
    "print(\"IMPORTANCIA DE CARACTERÍSTICAS\")\n",
    "print(f\"{'='*60}\")\n",
    "print(feature_importance.to_string(index=False))\n",
    "\n",
    "# Visualization\n",
    "plt.figure(figsize=(10, 6))\n",
    "plt.barh(feature_importance['feature'][:10], feature_importance['importance'][:10])\n",
    "plt.xlabel('Importancia')\n",
    "plt.title('Top 10 Características Más Importantes')\n",
    "plt.gca().invert_yaxis()\n",
    "plt.tight_layout()\n",
    "plt.show()"
   ]
  },
  {
   "cell_type": "code",
   "execution_count": 24,
   "metadata": {},
   "outputs": [],
   "source": [
    "# Fixed prediction function\n",
    "def predecir_anemia(sexo, edad_meses, peso, talla, cred, suplementacion, distrito):\n",
    "    \"\"\"\n",
    "    Predice anemia para un nuevo paciente\n",
    "    \n",
    "    Parámetros:\n",
    "    - sexo: 'F' o 'M'\n",
    "    - edad_meses: edad en meses (int)\n",
    "    - peso: peso en kg (float)\n",
    "    - talla: talla en cm (float)\n",
    "    - cred: control de crecimiento 0 o 1\n",
    "    - suplementacion: 0 o 1\n",
    "    - distrito: nombre del distrito (str)\n",
    "    \"\"\"\n",
    "    \n",
    "    # Create data dictionary matching training features\n",
    "    datos = {\n",
    "        'Sexo': 0 if sexo == 'F' else 1,\n",
    "        'Peso': peso,\n",
    "        'Talla': talla,\n",
    "        'Cred': cred,\n",
    "        'Suplementacion': suplementacion,\n",
    "        'DistritoREN': 0,  # Will be transformed\n",
    "        'Edad': edad_meses,  # Keep 'Edad' as in original data\n",
    "        'IMC': peso / ((talla/100) ** 2),\n",
    "        'Peso_Talla_Ratio': peso / talla,\n",
    "        'EdadMeses': edad_meses,\n",
    "        'EdadAnios': edad_meses / 12\n",
    "    }\n",
    "    \n",
    "    # Create DataFrame with same columns as training data\n",
    "    entrada = pd.DataFrame([datos])\n",
    "    \n",
    "    # Ensure columns match training data order\n",
    "    entrada = entrada[feature_names]\n",
    "    \n",
    "    # Transform district\n",
    "    try:\n",
    "        entrada.loc[0, 'DistritoREN'] = le_distrito.transform([distrito])[0]\n",
    "    except:\n",
    "        print(f\"⚠️ Distrito '{distrito}' no encontrado. Usando valor por defecto.\")\n",
    "        entrada.loc[0, 'DistritoREN'] = 0\n",
    "    \n",
    "    # Predict\n",
    "    prediccion = best_model.predict(entrada)[0]\n",
    "    probabilidades = best_model.predict_proba(entrada)[0]\n",
    "    \n",
    "    print(f\"\\n{'='*60}\")\n",
    "    print(\"RESULTADO DE PREDICCIÓN\")\n",
    "    print(f\"{'='*60}\")\n",
    "    print(f\"Diagnóstico predicho: Clase {prediccion}\")\n",
    "    print(f\"\\nProbabilidades por clase:\")\n",
    "    for clase, prob in zip(best_model.classes_, probabilidades):\n",
    "        print(f\"  Clase {clase}: {prob:.4f} ({prob*100:.2f}%)\")\n",
    "    \n",
    "    # Interpretation\n",
    "    interpretaciones = {\n",
    "        0: \"Sin anemia\",\n",
    "        1: \"Anemia leve\", \n",
    "        2: \"Anemia moderada\",\n",
    "        3: \"Anemia severa\"\n",
    "    }\n",
    "    \n",
    "    if prediccion in interpretaciones:\n",
    "        print(f\"\\nInterpretación: {interpretaciones[prediccion]}\")\n",
    "    \n",
    "    return prediccion, probabilidades\n",
    "\n"
   ]
  },
  {
   "cell_type": "code",
   "execution_count": 25,
   "metadata": {},
   "outputs": [
    {
     "name": "stdout",
     "output_type": "stream",
     "text": [
      "\n",
      "============================================================\n",
      "EJEMPLO DE PREDICCIÓN\n",
      "============================================================\n",
      "⚠️ Distrito 'SAN JUAN DE MIRAFLORES' no encontrado. Usando valor por defecto.\n",
      "\n",
      "============================================================\n",
      "RESULTADO DE PREDICCIÓN\n",
      "============================================================\n",
      "Diagnóstico predicho: Clase 0\n",
      "\n",
      "Probabilidades por clase:\n",
      "  Clase 0: 0.9299 (92.99%)\n",
      "  Clase 1: 0.0200 (2.00%)\n",
      "  Clase 2: 0.0501 (5.01%)\n",
      "  Clase 3: 0.0000 (0.00%)\n",
      "\n",
      "Interpretación: Sin anemia\n"
     ]
    }
   ],
   "source": [
    "# Example prediction\n",
    "print(f\"\\n{'='*60}\")\n",
    "print(\"EJEMPLO DE PREDICCIÓN\")\n",
    "print(f\"{'='*60}\")\n",
    "\n",
    "ejemplo = predecir_anemia(\n",
    "    sexo='F',\n",
    "    edad_meses=32,\n",
    "    peso=13.4,\n",
    "    talla=89.0,\n",
    "    cred=1,\n",
    "    suplementacion=1,\n",
    "    distrito='SAN JUAN DE MIRAFLORES'\n",
    ")"
   ]
  },
  {
   "cell_type": "code",
   "execution_count": null,
   "metadata": {},
   "outputs": [],
   "source": []
  }
 ],
 "metadata": {
  "colab": {
   "provenance": []
  },
  "kernelspec": {
   "display_name": "myenv",
   "language": "python",
   "name": "python3"
  },
  "language_info": {
   "codemirror_mode": {
    "name": "ipython",
    "version": 3
   },
   "file_extension": ".py",
   "mimetype": "text/x-python",
   "name": "python",
   "nbconvert_exporter": "python",
   "pygments_lexer": "ipython3",
   "version": "3.13.5"
  }
 },
 "nbformat": 4,
 "nbformat_minor": 4
}
